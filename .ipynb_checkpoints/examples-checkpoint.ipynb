{
 "cells": [
  {
   "cell_type": "markdown",
   "id": "b9200e8e",
   "metadata": {},
   "source": [
    "# Example Implementations of dj_spotify\n",
    "\n",
    "This markdown notebook displays the functionality of the dj_spotify package through a number of examples.\n",
    "\n",
    "## Setup\n",
    "First install the package from within your Python terminal.\n",
    "\n",
    "```pip install git+https://github.com/robalberse/dj_spotipy@main```\n",
    "\n",
    "Once successfully installed, import the package.\n",
    "\n",
    "```python\n",
    "import dj_spotify as dj\n",
    "```\n",
    "\n",
    "Next, we call the ```connect_spotify()``` function using the credentials generated from the application you created at https://developer.spotify.com/. This will allow us to connect to Spotify's API.\n",
    "\n",
    "```python\n",
    "dj.connect_spotify(client_id='{Your Client ID}',\n",
    "                   client_secret='{Your Client Secret}',\n",
    "                   spotify_user='{Your Username}')\n",
    "```\n",
    "\n",
    "If you begin receiving ```SpotifyException``` errors, rerun the ```connect_spotify()``` function to reestablish the connection.\n",
    "            \n",
    "## Examples\n",
    "            \n",
    "#### Example 1: Sorting and Updating a Single Playlist from Your Library\n",
    "I have a playlist called \"Songs for Literally Any Situation\" I would like to have sorted. To do so, I would run the ```dj_playlist_sort()``` and ```push_to_spotify()``` functions.\n",
    "```python\n",
    "sorted_playlist = dj.dj_playlist_sort(donor_playlist='Songs for Literally Any Situation')\n",
    "dj.push_to_spotify(playlist_id=dj.get_playlist_id('Songs for Literally Any Situation'),\n",
    "                   playlist_df=sorted_playlist)\n",
    "```\n",
    "\n",
    "#### Example 2: Combining Playlists\n",
    "Let's say I want to combine my \"Coastal\" playlist with Spotify's \"Beach Vibes\" playlist, as well as one of my friend's \"Summer Fun\" playlist. I first create a new playlist called \"Beach Friends\" and then run the ```combine_playlists()``` function. I will also reference the ```duration_h``` and ```energy_filter``` parameters to make the playlist 6 hours long and contain the most energetic songs from each playlist.\n",
    "\n",
    "```python\n",
    "dj.combine_playlists(donor_playlists=[['Coastal', USER_ID],\n",
    "                                      ['Beach Vibes', 'spotify'],\n",
    "                                      ['Summer Fun', '{My Friends Username}'],\n",
    "                     recipient_playlist='Beach Friends',\n",
    "                     duration_h=6,\n",
    "                     energy_filter=True)\n",
    "```\n",
    "\n",
    "#### Example 3: Sorting All of my Playlists\n",
    "So the order my of sorted playlists can remain fresh, I can use the ```sort_all_playlists()``` function on a routine basis.\n",
    "\n",
    "```python\n",
    "dj.sort_all_playlists()\n",
    "```"
   ]
  }
 ],
 "metadata": {
  "kernelspec": {
   "display_name": "Python 3 (ipykernel)",
   "language": "python",
   "name": "python3"
  },
  "language_info": {
   "codemirror_mode": {
    "name": "ipython",
    "version": 3
   },
   "file_extension": ".py",
   "mimetype": "text/x-python",
   "name": "python",
   "nbconvert_exporter": "python",
   "pygments_lexer": "ipython3",
   "version": "3.8.8"
  }
 },
 "nbformat": 4,
 "nbformat_minor": 5
}
